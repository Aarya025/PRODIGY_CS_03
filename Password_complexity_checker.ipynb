{
 "cells": [
  {
   "cell_type": "code",
   "execution_count": 5,
   "id": "a94159f3-c614-4237-9f24-d54a5a5d1c8c",
   "metadata": {},
   "outputs": [
    {
     "name": "stdout",
     "output_type": "stream",
     "text": [
      "Welcome to the Password Strength Assessment Tool!\n"
     ]
    },
    {
     "name": "stdin",
     "output_type": "stream",
     "text": [
      "Enter a password to assess its strength:  Aarya@001\n"
     ]
    },
    {
     "name": "stdout",
     "output_type": "stream",
     "text": [
      "\n",
      "Password Feedback:\n",
      "- Password length is acceptable.\n",
      "- Password contains uppercase letters.\n",
      "- Password contains lowercase letters.\n",
      "- Password contains numbers.\n",
      "- Password contains special characters.\n",
      "\n",
      "Password Strength: Strong (Score: 5/6)\n"
     ]
    }
   ],
   "source": [
    "import re\n",
    "\n",
    "def assess_password_strength(password):\n",
    "    # Initialize a score variable to 0\n",
    "    score = 0\n",
    "    feedback = []\n",
    "    \n",
    "    # Criteria 1: Check password length\n",
    "    if len(password) < 8:\n",
    "        feedback.append(\"Password is too short (must be at least 8 characters).\")\n",
    "    elif len(password) > 12:\n",
    "        feedback.append(\"Password length is good (greater than 12 characters).\")\n",
    "        score += 2\n",
    "    else:\n",
    "        feedback.append(\"Password length is acceptable.\")\n",
    "        score += 1\n",
    "\n",
    "    # Criteria 2: Check for uppercase letters\n",
    "    if re.search(r'[A-Z]', password):\n",
    "        feedback.append(\"Password contains uppercase letters.\")\n",
    "        score += 1\n",
    "    else:\n",
    "        feedback.append(\"Password should include at least one uppercase letter.\")\n",
    "\n",
    "    # Criteria 3: Check for lowercase letters\n",
    "    if re.search(r'[a-z]', password):\n",
    "        feedback.append(\"Password contains lowercase letters.\")\n",
    "        score += 1\n",
    "    else:\n",
    "        feedback.append(\"Password should include at least one lowercase letter.\")\n",
    "\n",
    "    # Criteria 4: Check for numbers\n",
    "    if re.search(r'[0-9]', password):\n",
    "        feedback.append(\"Password contains numbers.\")\n",
    "        score += 1\n",
    "    else:\n",
    "        feedback.append(\"Password should include at least one number.\")\n",
    "\n",
    "    # Criteria 5: Check for special characters\n",
    "    if re.search(r'[!@#$%^&*(),.?\":{}|<>]', password):\n",
    "        feedback.append(\"Password contains special characters.\")\n",
    "        score += 1\n",
    "    else:\n",
    "        feedback.append(\"Password should include at least one special character.\")\n",
    "\n",
    "    # Criteria 6: Check if password is too common (simple check)\n",
    "    common_passwords = ['password', '123456', 'qwerty', 'abc123', 'password1']\n",
    "    if password.lower() in common_passwords:\n",
    "        feedback.append(\"Password is too common and easy to guess.\")\n",
    "        score -= 2\n",
    "\n",
    "    # Overall strength feedback\n",
    "    if score <= 2:\n",
    "        strength = \"Weak\"\n",
    "    elif 3 <= score <= 4:\n",
    "        strength = \"Moderate\"\n",
    "    else:\n",
    "        strength = \"Strong\"\n",
    "\n",
    "    return score, strength, feedback\n",
    "\n",
    "\n",
    "def main():\n",
    "    print(\"Welcome to the Password Strength Assessment Tool!\")\n",
    "\n",
    "    # Get password input from the user\n",
    "    password = input(\"Enter a password to assess its strength: \")\n",
    "\n",
    "    # Assess the password strength\n",
    "    score, strength, feedback = assess_password_strength(password)\n",
    "\n",
    "    # Display feedback\n",
    "    print(\"\\nPassword Feedback:\")\n",
    "    for item in feedback:\n",
    "        print(f\"- {item}\")\n",
    "\n",
    "    print(f\"\\nPassword Strength: {strength} (Score: {score}/6)\")\n",
    "\n",
    "#checks if the script is being run as the main program\n",
    "if __name__ == \"__main__\":\n",
    "    main()\n"
   ]
  },
  {
   "cell_type": "code",
   "execution_count": null,
   "id": "8f92b6a2-1064-403d-bb1f-27e9d8b9cf82",
   "metadata": {},
   "outputs": [],
   "source": []
  }
 ],
 "metadata": {
  "kernelspec": {
   "display_name": "Python 3 (ipykernel)",
   "language": "python",
   "name": "python3"
  },
  "language_info": {
   "codemirror_mode": {
    "name": "ipython",
    "version": 3
   },
   "file_extension": ".py",
   "mimetype": "text/x-python",
   "name": "python",
   "nbconvert_exporter": "python",
   "pygments_lexer": "ipython3",
   "version": "3.11.7"
  }
 },
 "nbformat": 4,
 "nbformat_minor": 5
}
